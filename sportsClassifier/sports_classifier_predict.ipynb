{
  "nbformat": 4,
  "nbformat_minor": 0,
  "metadata": {
    "colab": {
      "name": "sports_classifier_predict.ipynb",
      "provenance": [],
      "authorship_tag": "ABX9TyOO8CLf5+3J6j4evPaYBZyF",
      "include_colab_link": true
    },
    "kernelspec": {
      "name": "python3",
      "display_name": "Python 3"
    },
    "accelerator": "GPU"
  },
  "cells": [
    {
      "cell_type": "markdown",
      "metadata": {
        "id": "view-in-github",
        "colab_type": "text"
      },
      "source": [
        "<a href=\"https://colab.research.google.com/github/raulbenitez/DEEPCARDIO/blob/master/sportsClassifier/sports_classifier_predict.ipynb\" target=\"_parent\"><img src=\"https://colab.research.google.com/assets/colab-badge.svg\" alt=\"Open In Colab\"/></a>"
      ]
    },
    {
      "cell_type": "code",
      "metadata": {
        "id": "yf0tJpNg5Rn_"
      },
      "source": [
        "# import the necessary packages\n",
        "from tensorflow.keras.models import load_model\n",
        "from collections import deque\n",
        "import numpy as np\n",
        "import argparse\n",
        "import pickle\n",
        "import cv2\n",
        "import matplotlib.pyplot as plt"
      ],
      "execution_count": 1,
      "outputs": []
    },
    {
      "cell_type": "code",
      "metadata": {
        "id": "DlX14z9C89pW",
        "outputId": "d82d75b5-6d7e-4e16-d4f0-71d8313ec8e0",
        "colab": {
          "base_uri": "https://localhost:8080/",
          "height": 34
        }
      },
      "source": [
        "from google.colab import drive\n",
        "drive.mount(\"/content/drive/\")"
      ],
      "execution_count": 2,
      "outputs": [
        {
          "output_type": "stream",
          "text": [
            "Mounted at /content/drive/\n"
          ],
          "name": "stdout"
        }
      ]
    },
    {
      "cell_type": "code",
      "metadata": {
        "id": "Gsmoue685loh"
      },
      "source": [
        "# construct the argument parser and parse the arguments\n",
        "ap = argparse.ArgumentParser()\n",
        "ap.add_argument(\"-m\", \"--model\", required=True,\n",
        "\thelp=\"path to trained serialized model\")\n",
        "ap.add_argument(\"-l\", \"--label-bin\", required=True,\n",
        "\thelp=\"path to  label binarizer\")\n",
        "ap.add_argument(\"-i\", \"--input\", required=True,\n",
        "\thelp=\"path to our input video\")\n",
        "ap.add_argument(\"-o\", \"--output\", required=True,\n",
        "\thelp=\"path to our output video\")\n",
        "ap.add_argument(\"-s\", \"--size\", type=int, default=128,\n",
        "\thelp=\"size of queue for averaging\")\n",
        "args = vars(ap.parse_args())"
      ],
      "execution_count": null,
      "outputs": []
    },
    {
      "cell_type": "code",
      "metadata": {
        "id": "oaGjGxG15mQo"
      },
      "source": [
        "video_name = 'field_hockey'\n",
        "args = {\"dataset\": 'drive/My Drive/tfm/learn/SportsClassifier/Sports-Type-Classifier/data/',\n",
        "        \"model\": 'drive/My Drive/tfm/learn/SportsClassifier/model/activity.model',\n",
        "        \"label_bin\": 'drive/My Drive/tfm/learn/SportsClassifier/model/lb.pickle',\n",
        "        \"input\": f'drive/My Drive/tfm/learn/SportsClassifier/video/{video_name}.mov',\n",
        "        \"output\": f'drive/My Drive/tfm/learn/SportsClassifier/video/{video_name}_o.mov',\n",
        "        \"size\": 128,\n",
        "        \"epochs\": 25}"
      ],
      "execution_count": 10,
      "outputs": []
    },
    {
      "cell_type": "markdown",
      "metadata": {
        "id": "NbbEwk2W821i"
      },
      "source": [
        "## Load model"
      ]
    },
    {
      "cell_type": "code",
      "metadata": {
        "id": "yEeNjsgn82fa",
        "outputId": "9624492a-6b14-48d7-848a-f63d4d6c224b",
        "colab": {
          "base_uri": "https://localhost:8080/",
          "height": 34
        }
      },
      "source": [
        "# load the trained model and label binarizer from disk\n",
        "print(\"[INFO] loading model and label binarizer...\")\n",
        "model = load_model(args[\"model\"])\n",
        "lb = pickle.loads(open(args[\"label_bin\"], \"rb\").read())"
      ],
      "execution_count": 4,
      "outputs": [
        {
          "output_type": "stream",
          "text": [
            "[INFO] loading model and label binarizer...\n"
          ],
          "name": "stdout"
        }
      ]
    },
    {
      "cell_type": "markdown",
      "metadata": {
        "id": "fTpVoDEk-BBG"
      },
      "source": [
        "## Label videos"
      ]
    },
    {
      "cell_type": "code",
      "metadata": {
        "id": "CrBG-p8_99tq"
      },
      "source": [
        "def label_video(args):\n",
        "  # initialize the image mean for mean subtraction along with the\n",
        "  # predictions queue\n",
        "  mean = np.array([123.68, 116.779, 103.939][::1], dtype=\"float32\")\n",
        "  Q = deque(maxlen=args[\"size\"])\n",
        "\n",
        "  # initialize the video stream, pointer to output video file, and\n",
        "  # frame dimensions\n",
        "  vs = cv2.VideoCapture(args[\"input\"])\n",
        "  writer = None\n",
        "  (W, H) = (None, None)\n",
        "  # loop over frames from the video file stream\n",
        "  while True:\n",
        "    # read the next frame from the file\n",
        "    (grabbed, frame) = vs.read()\n",
        "    # if the frame was not grabbed, then we have reached the end\n",
        "    # of the stream\n",
        "    if not grabbed:\n",
        "      break\n",
        "    # if the frame dimensions are empty, grab them\n",
        "    if W is None or H is None:\n",
        "      (H, W) = frame.shape[:2]\n",
        "    \n",
        "    # clone the output frame, then convert it from BGR to RGB\n",
        "    # ordering, resize the frame to a fixed 224x224, and then\n",
        "    # perform mean subtraction\n",
        "    output = frame.copy()\n",
        "    frame = cv2.cvtColor(frame, cv2.COLOR_BGR2RGB)\n",
        "    frame = cv2.resize(frame, (224, 224)).astype(\"float32\")\n",
        "    frame -= mean\n",
        "\n",
        "    # make predictions on the frame and then update the predictions\n",
        "    # queue\n",
        "    preds = model.predict(np.expand_dims(frame, axis=0))[0]\n",
        "    Q.append(preds)\n",
        "    # perform prediction averaging over the current history of\n",
        "    # previous predictions\n",
        "    results = np.array(Q).mean(axis=0)\n",
        "    i = np.argmax(results)\n",
        "    label = lb.classes_[i]\n",
        "\n",
        "    # draw the activity on the output frame\n",
        "    text = \"activity: {}\".format(label)\n",
        "    cv2.putText(output, text, (35, 50), cv2.FONT_HERSHEY_SIMPLEX,\n",
        "      1.25, (0, 255, 0), 5)\n",
        "    # check if the video writer is None\n",
        "    if writer is None:\n",
        "      # initialize our video writer\n",
        "      fourcc = cv2.VideoWriter_fourcc(*\"MJPG\")\n",
        "      writer = cv2.VideoWriter(args[\"output\"], fourcc, 30,\n",
        "        (W, H), True)\n",
        "    # write the output frame to disk\n",
        "    writer.write(output)\n",
        "    # show the output image\n",
        "    # cv2.imshow(\"Output\", output)\n",
        "    # key = cv2.waitKey(1) & 0xFF\n",
        "    # if the 'q' key was pressed, break from the loop\n",
        "    # if key == ord(\"q\"):\n",
        "    # \tbreak\n",
        "  # release the file pointers\n",
        "  print(\"[INFO] cleaning up...\")\n",
        "  writer.release()\n",
        "  vs.release()"
      ],
      "execution_count": 5,
      "outputs": []
    },
    {
      "cell_type": "code",
      "metadata": {
        "id": "Y_xa95ZHD7G8",
        "outputId": "27499ad2-d623-49b1-ed64-7367a57a742f",
        "colab": {
          "base_uri": "https://localhost:8080/",
          "height": 34
        }
      },
      "source": [
        "label_video(args)"
      ],
      "execution_count": 11,
      "outputs": [
        {
          "output_type": "stream",
          "text": [
            "[INFO] cleaning up...\n"
          ],
          "name": "stdout"
        }
      ]
    },
    {
      "cell_type": "code",
      "metadata": {
        "id": "mczvd_sgEN7-",
        "outputId": "2011861a-7e34-453b-d016-109ff577de0b",
        "colab": {
          "base_uri": "https://localhost:8080/",
          "height": 34
        }
      },
      "source": [
        "auxargs = args.copy()\n",
        "auxargs['size'] = 1\n",
        "auxargs['output'] = f'drive/My Drive/tfm/learn/SportsClassifier/video/{video_name}_o2.mov'\n",
        "label_video(auxargs)"
      ],
      "execution_count": 12,
      "outputs": [
        {
          "output_type": "stream",
          "text": [
            "[INFO] cleaning up...\n"
          ],
          "name": "stdout"
        }
      ]
    },
    {
      "cell_type": "code",
      "metadata": {
        "id": "4CVnXG1FX_7Y",
        "outputId": "e951f32b-0b38-47b7-90ec-f36930f28108",
        "colab": {
          "base_uri": "https://localhost:8080/",
          "height": 69
        }
      },
      "source": [
        "!ls \"drive/My Drive/tfm/learn/SportsClassifier/video\""
      ],
      "execution_count": 9,
      "outputs": [
        {
          "output_type": "stream",
          "text": [
            "field_hockey.mov   ice_hockey_o.mov\t  weight_lifting_o.mov\n",
            "ice_hockey.mov\t   weight_lifting.mov\n",
            "ice_hockey_o2.mov  weight_lifting_o2.mov\n"
          ],
          "name": "stdout"
        }
      ]
    }
  ]
}