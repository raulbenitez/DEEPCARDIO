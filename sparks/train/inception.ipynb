{
  "nbformat": 4,
  "nbformat_minor": 0,
  "metadata": {
    "colab": {
      "name": "inception.ipynb",
      "provenance": [],
      "collapsed_sections": [
        "uw7cc5ahhlkB"
      ],
      "authorship_tag": "ABX9TyNc7KEFU9Yh88kzV+3oVlDV",
      "include_colab_link": true
    },
    "kernelspec": {
      "name": "python3",
      "display_name": "Python 3"
    },
    "accelerator": "GPU"
  },
  "cells": [
    {
      "cell_type": "markdown",
      "metadata": {
        "id": "view-in-github",
        "colab_type": "text"
      },
      "source": [
        "<a href=\"https://colab.research.google.com/github/raulbenitez/DEEPCARDIO/blob/master/sparks/train/inception.ipynb\" target=\"_parent\"><img src=\"https://colab.research.google.com/assets/colab-badge.svg\" alt=\"Open In Colab\"/></a>"
      ]
    },
    {
      "cell_type": "code",
      "metadata": {
        "colab": {
          "base_uri": "https://localhost:8080/"
        },
        "id": "JImnW_VsQoMP",
        "outputId": "812bcd93-6e01-4626-e6fd-2ef31b1e43c1"
      },
      "source": [
        "from google.colab import drive\n",
        "drive.mount(\"/content/drive\") # , force_remount=True)"
      ],
      "execution_count": null,
      "outputs": [
        {
          "output_type": "stream",
          "text": [
            "Mounted at /content/drive\n"
          ],
          "name": "stdout"
        }
      ]
    },
    {
      "cell_type": "markdown",
      "metadata": {
        "id": "Dmmh8jz_PGnk"
      },
      "source": [
        "# Imports and useful functions"
      ]
    },
    {
      "cell_type": "code",
      "metadata": {
        "id": "doxZTa0qSk4Q"
      },
      "source": [
        "import os\n",
        "import numpy as np\n",
        "import pandas as pd\n",
        "import seaborn as sns\n",
        "import keras\n",
        "import tensorflow as tf\n",
        "import matplotlib.pyplot as plt\n",
        "import keras.backend as kb\n",
        "from sklearn.model_selection import train_test_split\n",
        "from sklearn.metrics import accuracy_score, confusion_matrix, classification_report, plot_confusion_matrix\n",
        "from sklearn.utils.class_weight import compute_class_weight\n",
        "\n",
        "# Insert the directory\n",
        "import sys\n",
        "sys.path.insert(0, 'drive/MyDrive/tfm/DEEPCARDIO_drive/sparks')\n",
        "# ! ls drive/MyDrive/tfm/DEEPCARDIO_drive/sparks/train\n",
        "\n",
        "from train.inception import load_data, _recall_and_false_spark, sigmoid_spark_and_non_spark_loss, _sigmoid, sigmoid_loss\n",
        "\n",
        "filesPath = 'drive/MyDrive/tfm/DEEPCARDIO_drive/sparks/train/'\n",
        "\n",
        "\n",
        "def evaluate_prediction(trainId, X, Y):\n",
        "  inceptionv3 = keras.applications.InceptionV3(include_top=True, weights=None, classes=2, input_shape=X_train[0].shape)\n",
        "  inceptionv3.load_weights(f\"drive/MyDrive/tfm/DEEPCARDIO_drive/sparks/train/{trainId}.h5\")\n",
        "\n",
        "  class_labels = ['no-spark', 'spark']\n",
        "\n",
        "  Y_pred = inceptionv3.predict(X)\n",
        "  Y_pred = Y_pred.round()\n",
        "\n",
        "  confMatrix = confusion_matrix(Y.argmax(axis=1), Y_pred.argmax(axis=1), normalize='true')\n",
        "  plt.figure(figsize=(10,8))\n",
        "  sns.heatmap(confMatrix, cmap='Blues', xticklabels=class_labels, yticklabels=class_labels, annot=True)\n",
        "  plt.title('confusion matrix')\n",
        "  plt.xlabel('predicted')\n",
        "  plt.ylabel('true')\n",
        "  plt.show()\n",
        "  print(\"Classification report validation:\\n\",  classification_report(Y.argmax(axis=1), Y_pred.argmax(axis=1), target_names=class_labels))\n",
        "\n",
        "  return Y_pred"
      ],
      "execution_count": null,
      "outputs": []
    },
    {
      "cell_type": "code",
      "metadata": {
        "id": "SgvE6XnI0WYe",
        "colab": {
          "base_uri": "https://localhost:8080/"
        },
        "outputId": "a44d4df7-20aa-4422-dd6b-4a561351553b"
      },
      "source": [
        "# Load the TensorBoard notebook extension\n",
        "%load_ext tensorboard\n",
        "import datetime\n",
        "! rm -r logs"
      ],
      "execution_count": null,
      "outputs": [
        {
          "output_type": "stream",
          "text": [
            "rm: cannot remove 'logs': No such file or directory\n"
          ],
          "name": "stdout"
        }
      ]
    },
    {
      "cell_type": "markdown",
      "metadata": {
        "id": "HKbjwFqwPMxg"
      },
      "source": [
        "# Data read"
      ]
    },
    {
      "cell_type": "code",
      "metadata": {
        "id": "oijkQ30Kbw8_",
        "colab": {
          "base_uri": "https://localhost:8080/"
        },
        "outputId": "ba31a81b-d4e7-4ba4-cdd2-c5153a60f209"
      },
      "source": [
        "trainData = '2021-02-03_23-53-32_synthetic' # 2021-01-23_02-02-14_gen_images, 2021-02-03_23-53-32_synthetic\n",
        "\n",
        "# X_train, Y_train, X_test, Y_test = load_data(classesFromFile=True, imageFolder='drive/MyDrive/tfm/DEEPCARDIO_drive/_datasets/deepcardio/170215_RyR-GFP30_RO_01_Serie2_SPARKS-calcium', gaussianFilter=False)\n",
        "X_train, Y_train, X_test, Y_test = load_data(classesFromFile=True, imageId=trainData,  # 170215_RyR-GFP30_RO_01_Serie2_SPARKS-calcium', \n",
        "                                             datasetsPath='drive/MyDrive/tfm/DEEPCARDIO_drive/_datasets/deepcardio/', gaussianFilter=False)\n",
        "\n",
        "X_train, X_valid, Y_train, Y_valid = train_test_split(X_train, Y_train, test_size=0.2, random_state=1)\n",
        "\n",
        "weight_array = compute_class_weight('balanced', np.unique(Y_train), Y_train.argmax(axis=-1))\n",
        "weight_dict = dict(zip(np.unique(Y_train), weight_array))\n",
        "weight_dict"
      ],
      "execution_count": null,
      "outputs": [
        {
          "output_type": "stream",
          "text": [
            "Prop of sparks in train dataset: 6.88, and in validation dataset: 6.88\n"
          ],
          "name": "stdout"
        },
        {
          "output_type": "execute_result",
          "data": {
            "text/plain": [
              "{0.0: 0.5366126327557295, 1.0: 7.32824427480916}"
            ]
          },
          "metadata": {
            "tags": []
          },
          "execution_count": 4
        }
      ]
    },
    {
      "cell_type": "markdown",
      "metadata": {
        "id": "jLaU2JmwPR-3"
      },
      "source": [
        "# Train"
      ]
    },
    {
      "cell_type": "code",
      "metadata": {
        "colab": {
          "base_uri": "https://localhost:8080/",
          "height": 1000
        },
        "id": "2CtTg_TBOYWE",
        "outputId": "d002c9c0-9348-47aa-d761-6150cbf65b44"
      },
      "source": [
        "# Inception V3\n",
        "modelv3 = keras.applications.InceptionV3(include_top=True, weights=None, classes=2, input_shape=X_train[0].shape)\n",
        "# modelv3.summary()\n",
        "\n",
        "batch_size = 32\n",
        "epochs = 30\n",
        "\n",
        "# custom functions\n",
        "loss_function = 'categorical_crossentropy' # sigmoid_loss\n",
        "loss_function_str = loss_function.__name__ if not isinstance(loss_function, str) else loss_function\n",
        "# recallRatio = 0.6\n",
        "# metric_function = _recall_and_false_spark(recallRatio)\n",
        "\n",
        "trainID = f\"borrar_inceptionv3_ep{epochs}_b{batch_size}__learn0.00001__\"+trainData\n",
        "print('trainId: '+trainID)\n",
        "\n",
        "opt = keras.optimizers.RMSprop(learning_rate=0.00001)\n",
        "modelv3.compile(loss=loss_function, optimizer='adam', metrics=['accuracy'])\n",
        "\n",
        "log_dir = \"logs/fit/\" + datetime.datetime.now().strftime(\"%Y%m%d-%H%M%S\")\n",
        "tensorboard_callback = tf.keras.callbacks.TensorBoard(log_dir=log_dir, histogram_freq=1)\n",
        "\n",
        "modelv3.fit(X_train, Y_train, batch_size=batch_size, epochs=epochs, validation_data=(X_valid, Y_valid), shuffle=True, callbacks=[tensorboard_callback]) # , class_weight=weight_dict \n",
        "\n",
        "modelv3.save(f\"{filesPath}{trainID}.h5\")\n",
        "\n",
        "# validation\n",
        "\n",
        "class_labels = ['no-spark', 'spark']\n",
        "\n",
        "Y_test_pred = modelv3.predict(X_test)\n",
        "Y_valid_pred = modelv3.predict(X_valid)\n",
        "\n",
        "confMatrix = confusion_matrix(Y_valid.argmax(axis=1), Y_valid_pred.argmax(axis=1), normalize='true')\n",
        "plt.figure(figsize=(10,8))\n",
        "sns.heatmap(confMatrix, cmap='Blues', xticklabels=class_labels, yticklabels=class_labels, annot=True)\n",
        "plt.title('confusion matrix validation')\n",
        "plt.xlabel('predicted')\n",
        "plt.ylabel('true')\n",
        "plt.show()\n",
        "print(\"Classification report validation:\\n\",  classification_report(Y_valid.argmax(axis=1), Y_valid_pred.argmax(axis=1), target_names=class_labels))\n",
        "\n",
        "confMatrix = confusion_matrix(Y_test.argmax(axis=1), Y_test_pred.argmax(axis=1), normalize='true')\n",
        "plt.figure(figsize=(10,8))\n",
        "sns.heatmap(confMatrix, cmap='Blues', xticklabels=class_labels, yticklabels=class_labels, annot=True)\n",
        "plt.title('confusion matrix test')\n",
        "plt.xlabel('predicted')\n",
        "plt.ylabel('true')\n",
        "plt.show()\n",
        "print(\"Classification report test:\\n\",  classification_report(Y_test.argmax(axis=1), Y_test_pred.argmax(axis=1), target_names=class_labels))"
      ],
      "execution_count": null,
      "outputs": [
        {
          "output_type": "stream",
          "text": [
            "trainId: borrar_inceptionv3_ep30_b32__learn0.00001__2021-02-03_23-53-32_synthetic\n",
            "Epoch 1/30\n",
            "62/62 [==============================] - 16s 161ms/step - loss: 0.6770 - accuracy: 0.8166 - val_loss: 0.2600 - val_accuracy: 0.9292\n",
            "Epoch 2/30\n",
            "62/62 [==============================] - 8s 122ms/step - loss: 0.2678 - accuracy: 0.8911 - val_loss: 0.3479 - val_accuracy: 0.9292\n",
            "Epoch 3/30\n",
            "62/62 [==============================] - 8s 123ms/step - loss: 0.2028 - accuracy: 0.9244 - val_loss: 0.2973 - val_accuracy: 0.9292\n",
            "Epoch 4/30\n",
            "62/62 [==============================] - 8s 124ms/step - loss: 0.1240 - accuracy: 0.9464 - val_loss: 0.6554 - val_accuracy: 0.9292\n",
            "Epoch 5/30\n",
            "62/62 [==============================] - 8s 125ms/step - loss: 0.1424 - accuracy: 0.9528 - val_loss: 2.9558 - val_accuracy: 0.0708\n",
            "Epoch 6/30\n",
            "62/62 [==============================] - 8s 125ms/step - loss: 0.1961 - accuracy: 0.9247 - val_loss: 0.3729 - val_accuracy: 0.9307\n",
            "Epoch 7/30\n",
            "62/62 [==============================] - 8s 129ms/step - loss: 0.1003 - accuracy: 0.9593 - val_loss: 0.2308 - val_accuracy: 0.9417\n",
            "Epoch 8/30\n",
            "62/62 [==============================] - 8s 128ms/step - loss: 0.1513 - accuracy: 0.9460 - val_loss: 0.0754 - val_accuracy: 0.9875\n",
            "Epoch 9/30\n",
            "62/62 [==============================] - 8s 127ms/step - loss: 0.0814 - accuracy: 0.9727 - val_loss: 0.1264 - val_accuracy: 0.9927\n",
            "Epoch 10/30\n",
            "62/62 [==============================] - 8s 127ms/step - loss: 0.1647 - accuracy: 0.9353 - val_loss: 0.5755 - val_accuracy: 0.7339\n",
            "Epoch 11/30\n",
            "62/62 [==============================] - 8s 127ms/step - loss: 0.0587 - accuracy: 0.9836 - val_loss: 0.1056 - val_accuracy: 0.9870\n",
            "Epoch 12/30\n",
            "62/62 [==============================] - 8s 128ms/step - loss: 0.0295 - accuracy: 0.9877 - val_loss: 2.4241 - val_accuracy: 0.9307\n",
            "Epoch 13/30\n",
            "62/62 [==============================] - 8s 130ms/step - loss: 0.0384 - accuracy: 0.9858 - val_loss: 2.9925 - val_accuracy: 0.2354\n",
            "Epoch 14/30\n",
            "62/62 [==============================] - 8s 130ms/step - loss: 0.0735 - accuracy: 0.9760 - val_loss: 0.6251 - val_accuracy: 0.9406\n",
            "Epoch 15/30\n",
            "62/62 [==============================] - 8s 131ms/step - loss: 0.0264 - accuracy: 0.9922 - val_loss: 0.1699 - val_accuracy: 0.9734\n",
            "Epoch 16/30\n",
            "62/62 [==============================] - 8s 130ms/step - loss: 0.0532 - accuracy: 0.9866 - val_loss: 5.2150 - val_accuracy: 0.0255\n",
            "Epoch 17/30\n",
            "62/62 [==============================] - 8s 130ms/step - loss: 0.0226 - accuracy: 0.9914 - val_loss: 0.0390 - val_accuracy: 0.9911\n",
            "Epoch 18/30\n",
            "62/62 [==============================] - 8s 130ms/step - loss: 0.0300 - accuracy: 0.9894 - val_loss: 0.0594 - val_accuracy: 0.9911\n",
            "Epoch 19/30\n",
            "62/62 [==============================] - 8s 130ms/step - loss: 0.0205 - accuracy: 0.9914 - val_loss: 0.0883 - val_accuracy: 0.9927\n",
            "Epoch 20/30\n",
            "62/62 [==============================] - 8s 130ms/step - loss: 0.0098 - accuracy: 0.9976 - val_loss: 0.0721 - val_accuracy: 0.9937\n",
            "Epoch 21/30\n",
            "62/62 [==============================] - 8s 130ms/step - loss: 0.0395 - accuracy: 0.9880 - val_loss: 1.1434 - val_accuracy: 0.5318\n",
            "Epoch 22/30\n",
            "62/62 [==============================] - 8s 130ms/step - loss: 0.0156 - accuracy: 0.9928 - val_loss: 0.1084 - val_accuracy: 0.9927\n",
            "Epoch 23/30\n",
            "62/62 [==============================] - 8s 130ms/step - loss: 0.0187 - accuracy: 0.9915 - val_loss: 0.2330 - val_accuracy: 0.9917\n",
            "Epoch 24/30\n",
            "62/62 [==============================] - 8s 130ms/step - loss: 0.0246 - accuracy: 0.9905 - val_loss: 0.0332 - val_accuracy: 0.9943\n",
            "Epoch 25/30\n",
            "62/62 [==============================] - 8s 130ms/step - loss: 0.0434 - accuracy: 0.9898 - val_loss: 0.0730 - val_accuracy: 0.9943\n",
            "Epoch 26/30\n",
            "62/62 [==============================] - 8s 130ms/step - loss: 0.0391 - accuracy: 0.9885 - val_loss: 0.0966 - val_accuracy: 0.9932\n",
            "Epoch 27/30\n",
            "62/62 [==============================] - 8s 130ms/step - loss: 0.0141 - accuracy: 0.9967 - val_loss: 0.0285 - val_accuracy: 0.9964\n",
            "Epoch 28/30\n",
            "62/62 [==============================] - 8s 131ms/step - loss: 0.0209 - accuracy: 0.9925 - val_loss: 0.1450 - val_accuracy: 0.9922\n",
            "Epoch 29/30\n",
            "62/62 [==============================] - 8s 130ms/step - loss: 0.0268 - accuracy: 0.9903 - val_loss: 0.3207 - val_accuracy: 0.9901\n",
            "Epoch 30/30\n",
            "62/62 [==============================] - 8s 130ms/step - loss: 0.0200 - accuracy: 0.9931 - val_loss: 0.6713 - val_accuracy: 0.6901\n"
          ],
          "name": "stdout"
        },
        {
          "output_type": "display_data",
          "data": {
            "image/png": "[encoded data removed]",
            "text/plain": [
              "<Figure size 720x576 with 2 Axes>"
            ]
          },
          "metadata": {
            "tags": [],
            "needs_background": "light"
          }
        },
        {
          "output_type": "stream",
          "text": [
            "Classification report validation:\n",
            "               precision    recall  f1-score   support\n",
            "\n",
            "    no-spark       1.00      0.67      0.80      1784\n",
            "       spark       0.18      0.97      0.31       136\n",
            "\n",
            "    accuracy                           0.69      1920\n",
            "   macro avg       0.59      0.82      0.55      1920\n",
            "weighted avg       0.94      0.69      0.77      1920\n",
            "\n"
          ],
          "name": "stdout"
        },
        {
          "output_type": "display_data",
          "data": {
            "image/png": "[encoded data removed]",
            "text/plain": [
              "<Figure size 720x576 with 2 Axes>"
            ]
          },
          "metadata": {
            "tags": [],
            "needs_background": "light"
          }
        },
        {
          "output_type": "stream",
          "text": [
            "Classification report test:\n",
            "               precision    recall  f1-score   support\n",
            "\n",
            "    no-spark       0.99      0.32      0.48       421\n",
            "       spark       0.20      0.99      0.33        72\n",
            "\n",
            "    accuracy                           0.42       493\n",
            "   macro avg       0.60      0.65      0.41       493\n",
            "weighted avg       0.88      0.42      0.46       493\n",
            "\n"
          ],
          "name": "stdout"
        }
      ]
    },
    {
      "cell_type": "code",
      "metadata": {
        "colab": {
          "base_uri": "https://localhost:8080/",
          "height": 839
        },
        "id": "YDP7jZGG8evg",
        "outputId": "3c0077d4-6e15-480c-bae7-931cfc1d6dc0"
      },
      "source": [
        "%tensorboard --logdir logs/fit"
      ],
      "execution_count": null,
      "outputs": []
    },
    {
      "cell_type": "markdown",
      "metadata": {
        "id": "18H9K-ZjPWHJ"
      },
      "source": [
        "# Test"
      ]
    },
    {
      "cell_type": "code",
      "metadata": {
        "colab": {
          "base_uri": "https://localhost:8080/",
          "height": 704
        },
        "id": "JvIKxLiogFpj",
        "outputId": "2afefd8f-cf26-4d0f-ad3d-4d3ab79f7785"
      },
      "source": [
        "# ../../_datasets/deepcardio/170215_RyR-GFP30_RO_01_Serie2_SPARKS-calcium\n",
        "X_train, Y_train, X_test, Y_test = load_data(classesFromFile=True, imageId='170215_RyR-GFP30_RO_01_Serie2_SPARKS-calcium', \n",
        "                                             datasetsPath='drive/MyDrive/tfm/DEEPCARDIO_drive/_datasets/deepcardio/', gaussianFilter=False)\n",
        "# X_train, X_valid, Y_train, Y_valid = train_test_split(X_train, Y_train, test_size=0.2, random_state=1)\n",
        "X = np.concatenate((X_train, X_test))\n",
        "Y = np.concatenate((Y_train, Y_test))\n",
        "\n",
        "Y_pred = evaluate_prediction(trainID, X, Y)"
      ],
      "execution_count": null,
      "outputs": [
        {
          "output_type": "stream",
          "text": [
            "Prop of sparks in train dataset: 14.92, and in validation dataset: 14.6\n"
          ],
          "name": "stdout"
        },
        {
          "output_type": "display_data",
          "data": {
            "image/png": "[encoded data removed]",
            "text/plain": [
              "<Figure size 720x576 with 2 Axes>"
            ]
          },
          "metadata": {
            "tags": [],
            "needs_background": "light"
          }
        },
        {
          "output_type": "stream",
          "text": [
            "Classification report validation:\n",
            "               precision    recall  f1-score   support\n",
            "\n",
            "    no-spark       1.00      0.38      0.55      2098\n",
            "       spark       0.22      1.00      0.36       366\n",
            "\n",
            "    accuracy                           0.47      2464\n",
            "   macro avg       0.61      0.69      0.45      2464\n",
            "weighted avg       0.88      0.47      0.52      2464\n",
            "\n"
          ],
          "name": "stdout"
        }
      ]
    },
    {
      "cell_type": "code",
      "metadata": {
        "colab": {
          "base_uri": "https://localhost:8080/",
          "height": 704
        },
        "id": "-_PBK1utu_Vy",
        "outputId": "c9f6402d-e01d-4cfb-ada7-5bda117e2535"
      },
      "source": [
        "# ../../_datasets/deepcardio/170215_RyR-GFP30_RO_01_Serie2_SPARKS-calcium\n",
        "X_train, Y_train, X_test, Y_test = load_data(classesFromFile=True, imageId='170215_RyR-GFP30_RO_01_Serie2_SPARKS-calcium', \n",
        "                                             datasetsPath='drive/MyDrive/tfm/DEEPCARDIO_drive/_datasets/deepcardio/', gaussianFilter=False)\n",
        "# X_train, X_valid, Y_train, Y_valid = train_test_split(X_train, Y_train, test_size=0.2, random_state=1)\n",
        "X = np.concatenate((X_train, X_test))\n",
        "Y = np.concatenate((Y_train, Y_test))\n",
        "\n",
        "Y_pred = evaluate_prediction('inceptionv3_ep25_b32__2021-02-03_23-53-32_synthetic_RECALL94', X, Y)"
      ],
      "execution_count": null,
      "outputs": [
        {
          "output_type": "stream",
          "text": [
            "Prop of sparks in train dataset: 14.92, and in validation dataset: 14.6\n"
          ],
          "name": "stdout"
        },
        {
          "output_type": "display_data",
          "data": {
            "image/png": "[encoded data removed]",
            "text/plain": [
              "<Figure size 720x576 with 2 Axes>"
            ]
          },
          "metadata": {
            "tags": [],
            "needs_background": "light"
          }
        },
        {
          "output_type": "stream",
          "text": [
            "Classification report validation:\n",
            "               precision    recall  f1-score   support\n",
            "\n",
            "    no-spark       0.99      0.98      0.99      2098\n",
            "       spark       0.90      0.94      0.92       366\n",
            "\n",
            "    accuracy                           0.98      2464\n",
            "   macro avg       0.94      0.96      0.95      2464\n",
            "weighted avg       0.98      0.98      0.98      2464\n",
            "\n"
          ],
          "name": "stdout"
        }
      ]
    },
    {
      "cell_type": "code",
      "metadata": {
        "colab": {
          "base_uri": "https://localhost:8080/",
          "height": 704
        },
        "id": "ZpVIwl7wlXH4",
        "outputId": "b05f983c-73c9-45eb-e691-8def5989c114"
      },
      "source": [
        "# ../../_datasets/deepcardio/170215_RyR-GFP30_RO_01_Serie2_SPARKS-calcium\n",
        "X_train, Y_train, X_test, Y_test = load_data(classesFromFile=True, imageId='2021-01-23_02-52-32_gen_images', \n",
        "                                             datasetsPath='drive/MyDrive/tfm/DEEPCARDIO_drive/_datasets/deepcardio/', gaussianFilter=False)\n",
        "# X_train, X_valid, Y_train, Y_valid = train_test_split(X_train, Y_train, test_size=0.2, random_state=1)\n",
        "X = np.concatenate((X_train, X_test))\n",
        "Y = np.concatenate((Y_train, Y_test))\n",
        "\n",
        "Y_pred = evaluate_prediction(trainID+'_RECALL94', X, Y)"
      ],
      "execution_count": null,
      "outputs": [
        {
          "output_type": "stream",
          "text": [
            "Prop of sparks in train dataset: 6.12, and in validation dataset: 8.75\n"
          ],
          "name": "stdout"
        },
        {
          "output_type": "display_data",
          "data": {
            "image/png": "[encoded data removed]",
            "text/plain": [
              "<Figure size 720x576 with 2 Axes>"
            ]
          },
          "metadata": {
            "tags": [],
            "needs_background": "light"
          }
        },
        {
          "output_type": "stream",
          "text": [
            "Classification report validation:\n",
            "               precision    recall  f1-score   support\n",
            "\n",
            "    no-spark       1.00      1.00      1.00      1867\n",
            "       spark       0.99      0.99      0.99       133\n",
            "\n",
            "    accuracy                           1.00      2000\n",
            "   macro avg       1.00      1.00      1.00      2000\n",
            "weighted avg       1.00      1.00      1.00      2000\n",
            "\n"
          ],
          "name": "stdout"
        }
      ]
    },
    {
      "cell_type": "markdown",
      "metadata": {
        "id": "uw7cc5ahhlkB"
      },
      "source": [
        "## old"
      ]
    },
    {
      "cell_type": "code",
      "metadata": {
        "colab": {
          "base_uri": "https://localhost:8080/",
          "height": 1000
        },
        "id": "EvTe6OhIOAJE",
        "outputId": "47492b10-5eb9-448a-dd30-133fb809add3"
      },
      "source": [
        "class_labels = ['no-spark', 'spark']\n",
        "\n",
        "Y_test_pred = modelv3.predict(X_test)\n",
        "Y_valid_pred = modelv3.predict(X_valid)\n",
        "\n",
        "confMatrix = confusion_matrix(Y_valid.argmax(axis=1), Y_valid_pred.argmax(axis=1), normalize='true')\n",
        "plt.figure(figsize=(10,8))\n",
        "sns.heatmap(confMatrix, cmap='Blues', xticklabels=class_labels, yticklabels=class_labels, annot=True)\n",
        "plt.title('confusion matrix validation')\n",
        "plt.xlabel('predicted')\n",
        "plt.ylabel('true')\n",
        "plt.show()\n",
        "print(\"Classification report validation:\\n\",  classification_report(Y_valid.argmax(axis=1), Y_valid_pred.argmax(axis=1), target_names=class_labels))\n",
        "\n",
        "confMatrix = confusion_matrix(Y_test.argmax(axis=1), Y_test_pred.argmax(axis=1), normalize='true')\n",
        "plt.figure(figsize=(10,8))\n",
        "sns.heatmap(confMatrix, cmap='Blues', xticklabels=class_labels, yticklabels=class_labels, annot=True)\n",
        "plt.title('confusion matrix test')\n",
        "plt.xlabel('predicted')\n",
        "plt.ylabel('true')\n",
        "plt.show()\n",
        "print(\"Classification report test:\\n\",  classification_report(Y_test.argmax(axis=1), Y_test_pred.argmax(axis=1), target_names=class_labels))"
      ],
      "execution_count": null,
      "outputs": [
        {
          "output_type": "display_data",
          "data": {
            "image/png": "[encoded data removed]",
            "text/plain": [
              "<Figure size 720x576 with 2 Axes>"
            ]
          },
          "metadata": {
            "tags": [],
            "needs_background": "light"
          }
        },
        {
          "output_type": "stream",
          "text": [
            "Classification report validation:\n",
            "               precision    recall  f1-score   support\n",
            "\n",
            "    no-spark       0.94      0.98      0.96       334\n",
            "       spark       0.83      0.64      0.72        61\n",
            "\n",
            "    accuracy                           0.92       395\n",
            "   macro avg       0.88      0.81      0.84       395\n",
            "weighted avg       0.92      0.92      0.92       395\n",
            "\n"
          ],
          "name": "stdout"
        },
        {
          "output_type": "display_data",
          "data": {
            "image/png": "[encoded data removed]",
            "text/plain": [
              "<Figure size 720x576 with 2 Axes>"
            ]
          },
          "metadata": {
            "tags": [],
            "needs_background": "light"
          }
        },
        {
          "output_type": "stream",
          "text": [
            "Classification report test:\n",
            "               precision    recall  f1-score   support\n",
            "\n",
            "    no-spark       0.96      0.97      0.96       421\n",
            "       spark       0.80      0.74      0.77        72\n",
            "\n",
            "    accuracy                           0.94       493\n",
            "   macro avg       0.88      0.85      0.87       493\n",
            "weighted avg       0.93      0.94      0.93       493\n",
            "\n"
          ],
          "name": "stdout"
        }
      ]
    },
    {
      "cell_type": "code",
      "metadata": {
        "colab": {
          "base_uri": "https://localhost:8080/",
          "height": 541
        },
        "id": "oBb3ksjA4XCi",
        "outputId": "439ec380-79a6-4e47-fe5b-cf6ed0935da9"
      },
      "source": [
        "# plt.figure(figsize=(20, 5))\n",
        "# plt.plot(modelv3.history.history[f\"{metric_function.__name__}\"])\n",
        "# plt.plot(modelv3.history.history[f\"val_{metric_function.__name__}\"])\n",
        "# plt.legend(['train', 'valid'])\n",
        "# plt.savefig(f\"{filesPath}{trainID}_metrics.png\")\n",
        "# plt.show()\n",
        "\n",
        "plt.figure(figsize=(20, 5))\n",
        "plt.ylim(plt.ylim()[0], 1.0)\n",
        "plt.plot(modelv3.history.history['loss'])\n",
        "plt.plot(modelv3.history.history['val_loss'])\n",
        "plt.legend(['loss', 'val_loss'])\n",
        "plt.savefig(f\"{filesPath}{trainID}_loss.png\")\n",
        "plt.show()"
      ],
      "execution_count": null,
      "outputs": [
        {
          "output_type": "error",
          "ename": "KeyError",
          "evalue": "ignored",
          "traceback": [
            "\u001b[0;31m---------------------------------------------------------------------------\u001b[0m",
            "\u001b[0;31mKeyError\u001b[0m                                  Traceback (most recent call last)",
            "\u001b[0;32m<ipython-input-10-fdc99f29b03b>\u001b[0m in \u001b[0;36m<module>\u001b[0;34m()\u001b[0m\n\u001b[1;32m      8\u001b[0m \u001b[0mplt\u001b[0m\u001b[0;34m.\u001b[0m\u001b[0mfigure\u001b[0m\u001b[0;34m(\u001b[0m\u001b[0mfigsize\u001b[0m\u001b[0;34m=\u001b[0m\u001b[0;34m(\u001b[0m\u001b[0;36m20\u001b[0m\u001b[0;34m,\u001b[0m \u001b[0;36m5\u001b[0m\u001b[0;34m)\u001b[0m\u001b[0;34m)\u001b[0m\u001b[0;34m\u001b[0m\u001b[0;34m\u001b[0m\u001b[0m\n\u001b[1;32m      9\u001b[0m \u001b[0mplt\u001b[0m\u001b[0;34m.\u001b[0m\u001b[0mylim\u001b[0m\u001b[0;34m(\u001b[0m\u001b[0mplt\u001b[0m\u001b[0;34m.\u001b[0m\u001b[0mylim\u001b[0m\u001b[0;34m(\u001b[0m\u001b[0;34m)\u001b[0m\u001b[0;34m[\u001b[0m\u001b[0;36m0\u001b[0m\u001b[0;34m]\u001b[0m\u001b[0;34m,\u001b[0m \u001b[0;36m1.0\u001b[0m\u001b[0;34m)\u001b[0m\u001b[0;34m\u001b[0m\u001b[0;34m\u001b[0m\u001b[0m\n\u001b[0;32m---> 10\u001b[0;31m \u001b[0mplt\u001b[0m\u001b[0;34m.\u001b[0m\u001b[0mplot\u001b[0m\u001b[0;34m(\u001b[0m\u001b[0mmodelv3\u001b[0m\u001b[0;34m.\u001b[0m\u001b[0mhistory\u001b[0m\u001b[0;34m.\u001b[0m\u001b[0mhistory\u001b[0m\u001b[0;34m[\u001b[0m\u001b[0;34m'loss'\u001b[0m\u001b[0;34m]\u001b[0m\u001b[0;34m)\u001b[0m\u001b[0;34m\u001b[0m\u001b[0;34m\u001b[0m\u001b[0m\n\u001b[0m\u001b[1;32m     11\u001b[0m \u001b[0mplt\u001b[0m\u001b[0;34m.\u001b[0m\u001b[0mplot\u001b[0m\u001b[0;34m(\u001b[0m\u001b[0mmodelv3\u001b[0m\u001b[0;34m.\u001b[0m\u001b[0mhistory\u001b[0m\u001b[0;34m.\u001b[0m\u001b[0mhistory\u001b[0m\u001b[0;34m[\u001b[0m\u001b[0;34m'val_loss'\u001b[0m\u001b[0;34m]\u001b[0m\u001b[0;34m)\u001b[0m\u001b[0;34m\u001b[0m\u001b[0;34m\u001b[0m\u001b[0m\n\u001b[1;32m     12\u001b[0m \u001b[0mplt\u001b[0m\u001b[0;34m.\u001b[0m\u001b[0mlegend\u001b[0m\u001b[0;34m(\u001b[0m\u001b[0;34m[\u001b[0m\u001b[0;34m'loss'\u001b[0m\u001b[0;34m,\u001b[0m \u001b[0;34m'val_loss'\u001b[0m\u001b[0;34m]\u001b[0m\u001b[0;34m)\u001b[0m\u001b[0;34m\u001b[0m\u001b[0;34m\u001b[0m\u001b[0m\n",
            "\u001b[0;31mKeyError\u001b[0m: 'loss'"
          ]
        },
        {
          "output_type": "display_data",
          "data": {
            "image/png": "[encoded data removed]",
            "text/plain": [
              "<Figure size 1440x360 with 1 Axes>"
            ]
          },
          "metadata": {
            "tags": [],
            "needs_background": "light"
          }
        }
      ]
    }
  ]
}